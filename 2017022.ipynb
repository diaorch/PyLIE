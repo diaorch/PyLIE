{
 "cells": [
  {
   "cell_type": "code",
   "execution_count": 5,
   "metadata": {
    "collapsed": false
   },
   "outputs": [],
   "source": [
    "keywordSet = ['RNA', 'transgenic mice', 'alcohol']"
   ]
  },
  {
   "cell_type": "code",
   "execution_count": 6,
   "metadata": {
    "collapsed": true
   },
   "outputs": [],
   "source": [
    "from Bio import Entrez"
   ]
  },
  {
   "cell_type": "code",
   "execution_count": 7,
   "metadata": {
    "collapsed": true
   },
   "outputs": [],
   "source": [
    "Entrez.email = \"diaorch@gmail.com\""
   ]
  },
  {
   "cell_type": "code",
   "execution_count": 11,
   "metadata": {
    "collapsed": false
   },
   "outputs": [
    {
     "data": {
      "text/plain": [
       "'RNA,transgenic mice,alcohol'"
      ]
     },
     "execution_count": 11,
     "metadata": {},
     "output_type": "execute_result"
    }
   ],
   "source": [
    "keywordString = ','.join(keywordSet)\n",
    "keywordString"
   ]
  },
  {
   "cell_type": "code",
   "execution_count": 13,
   "metadata": {
    "collapsed": false
   },
   "outputs": [],
   "source": [
    "handle = Entrez.esearch(db=\"pubmed\", term = keywordString, retmax = 20)"
   ]
  },
  {
   "cell_type": "code",
   "execution_count": 14,
   "metadata": {
    "collapsed": true
   },
   "outputs": [],
   "source": [
    "record = Entrez.read(handle)"
   ]
  },
  {
   "cell_type": "code",
   "execution_count": 16,
   "metadata": {
    "collapsed": false
   },
   "outputs": [
    {
     "data": {
      "text/plain": [
       "['27955673', '27838690', '27140681', '27095594', '27094722', '26912655', '26903652', '26873969', '26791202', '26781273', '26769846', '26739261', '26716409', '26706474', '26701855', '26671185', '26615875', '26541871', '26454239', '26391396']"
      ]
     },
     "execution_count": 16,
     "metadata": {},
     "output_type": "execute_result"
    }
   ],
   "source": [
    "record[\"IdList\"]"
   ]
  },
  {
   "cell_type": "code",
   "execution_count": 17,
   "metadata": {
    "collapsed": false
   },
   "outputs": [
    {
     "name": "stdout",
     "output_type": "stream",
     "text": [
      "27955673\n",
      "27838690\n",
      "27140681\n",
      "27095594\n",
      "27094722\n",
      "26912655\n",
      "26903652\n",
      "26873969\n",
      "26791202\n",
      "26781273\n",
      "26769846\n",
      "26739261\n",
      "26716409\n",
      "26706474\n",
      "26701855\n",
      "26671185\n",
      "26615875\n",
      "26541871\n",
      "26454239\n",
      "26391396\n"
     ]
    }
   ],
   "source": [
    "for pubmedId in record[\"IdList\"]:\n",
    "    print(pubmedId)"
   ]
  }
 ],
 "metadata": {
  "kernelspec": {
   "display_name": "Python 3",
   "language": "python",
   "name": "python3"
  },
  "language_info": {
   "codemirror_mode": {
    "name": "ipython",
    "version": 3
   },
   "file_extension": ".py",
   "mimetype": "text/x-python",
   "name": "python",
   "nbconvert_exporter": "python",
   "pygments_lexer": "ipython3",
   "version": "3.6.0"
  }
 },
 "nbformat": 4,
 "nbformat_minor": 2
}
